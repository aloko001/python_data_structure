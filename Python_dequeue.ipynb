{
 "cells": [
  {
   "cell_type": "markdown",
   "metadata": {},
   "source": [
    "A double-ended queue, or deque, supports adding and removing elements from either end. The more commonly used stacks and queues are degenerate forms of deques, where the inputs and outputs are restricted to a single end."
   ]
  },
  {
   "cell_type": "code",
   "execution_count": null,
   "metadata": {},
   "outputs": [],
   "source": [
    "import collections\n",
    "\n",
    "DoubleEnded = collections.deque([\"Mon\",\"Tue\",\"Wed\"])\n",
    "\n",
    "DoubleEnded.append(\"Thu\")\n",
    "\n",
    "print (\"Appended at right - \")\n",
    "print (DoubleEnded)\n",
    "\n",
    "DoubleEnded.appendleft(\"Sun\")\n",
    "\n",
    "print (\"Appended at right at left is - \")\n",
    "print (DoubleEnded)\n",
    "\n",
    "DoubleEnded.pop()\n",
    "\n",
    "print (\"Deleting from right - \")\n",
    "print (DoubleEnded)\n",
    "\n",
    "DoubleEnded.popleft()\n",
    "\n",
    "print (\"Deleting from left - \")\n",
    "print (DoubleEnded)"
   ]
  }
 ],
 "metadata": {
  "kernelspec": {
   "display_name": "Python 3",
   "language": "python",
   "name": "python3"
  },
  "language_info": {
   "codemirror_mode": {
    "name": "ipython",
    "version": 3
   },
   "file_extension": ".py",
   "mimetype": "text/x-python",
   "name": "python",
   "nbconvert_exporter": "python",
   "pygments_lexer": "ipython3",
   "version": "3.7.0"
  }
 },
 "nbformat": 4,
 "nbformat_minor": 2
}
