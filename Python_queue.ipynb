{
 "cells": [
  {
   "cell_type": "markdown",
   "metadata": {},
   "source": [
    "We are familiar with queue in our day to day life as we wait for a service. The queue data structure aslo means the same where the data elements are arranged in a queue. The uniqueness of queue lies in the way items are added and removed. The items are allowed at on end but removed form the other end. So it is a First-in-First out method. An queue can be implemented using python list where we can use the insert() and pop() methods to add and remove elements. Their is no insertion as data elements are always added at the end of the queue."
   ]
  },
  {
   "cell_type": "code",
   "execution_count": null,
   "metadata": {},
   "outputs": [],
   "source": [
    "#adding elements to a queue\n",
    "class Queue:\n",
    "\n",
    "  def __init__(self):\n",
    "      self.queue = list()\n",
    "\n",
    "  def addtoq(self,dataval):\n",
    "# Insert method to add element\n",
    "      if dataval not in self.queue:\n",
    "          self.queue.insert(0,dataval)\n",
    "          return True\n",
    "      return False\n",
    "\n",
    "  def size(self):\n",
    "      return len(self.queue)\n",
    "\n",
    "TheQueue = Queue()\n",
    "TheQueue.addtoq(\"Mon\")\n",
    "TheQueue.addtoq(\"Tue\")\n",
    "TheQueue.addtoq(\"Wed\")\n",
    "print(TheQueue.size())"
   ]
  },
  {
   "cell_type": "code",
   "execution_count": null,
   "metadata": {},
   "outputs": [],
   "source": [
    "#removing element from a queue\n",
    "class Queue:\n",
    "\n",
    "  def __init__(self):\n",
    "      self.queue = list()\n",
    "\n",
    "  def addtoq(self,dataval):\n",
    "# Insert method to add element\n",
    "      if dataval not in self.queue:\n",
    "          self.queue.insert(0,dataval)\n",
    "          return True\n",
    "      return False\n",
    "# Pop method to remove element\n",
    "  def removefromq(self):\n",
    "      if len(self.queue)>0:\n",
    "          return self.queue.pop()\n",
    "      return (\"No elements in Queue!\")\n",
    "\n",
    "TheQueue = Queue()\n",
    "TheQueue.addtoq(\"Mon\")\n",
    "TheQueue.addtoq(\"Tue\")\n",
    "TheQueue.addtoq(\"Wed\")\n",
    "print(TheQueue.removefromq())\n",
    "print(TheQueue.removefromq())"
   ]
  }
 ],
 "metadata": {
  "kernelspec": {
   "display_name": "Python 3",
   "language": "python",
   "name": "python3"
  },
  "language_info": {
   "codemirror_mode": {
    "name": "ipython",
    "version": 3
   },
   "file_extension": ".py",
   "mimetype": "text/x-python",
   "name": "python",
   "nbconvert_exporter": "python",
   "pygments_lexer": "ipython3",
   "version": "3.7.0"
  }
 },
 "nbformat": 4,
 "nbformat_minor": 2
}
