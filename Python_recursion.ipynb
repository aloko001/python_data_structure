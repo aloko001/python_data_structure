{
 "cells": [
  {
   "cell_type": "markdown",
   "metadata": {},
   "source": [
    "Recursion allows a function to call itself. Fixed steps of code get executed again and again for new values. We also have to set criteria for deciding when the recursive call ends. In the below example we see a recursive approach to the binary search. We take a sorted list and give its index range as input to the recursive function."
   ]
  },
  {
   "cell_type": "code",
   "execution_count": 4,
   "metadata": {},
   "outputs": [
    {
     "name": "stdout",
     "output_type": "stream",
     "text": [
      "2\n",
      "None\n"
     ]
    }
   ],
   "source": [
    "#binary search using recursion\n",
    "def bsearch(list, idx0, idxn, val):\n",
    "\n",
    "    if (idxn < idx0):\n",
    "        return None\n",
    "    else:\n",
    "        midval = idx0 + ((idxn - idx0) // 2)\n",
    "# Compare the search item with middle most value\n",
    "\n",
    "        if list[midval] > val:\n",
    "            return bsearch(list, idx0, midval-1,val)\n",
    "        elif list[midval] < val:\n",
    "            return bsearch(list, midval+1, idxn, val)\n",
    "        else:\n",
    "            return midval\n",
    "\n",
    "list = [8,11,24,56,88,131]\n",
    "print(bsearch(list, 0, 5, 24))\n",
    "print(bsearch(list, 0, 5, 51))"
   ]
  },
  {
   "cell_type": "code",
   "execution_count": null,
   "metadata": {},
   "outputs": [],
   "source": []
  }
 ],
 "metadata": {
  "kernelspec": {
   "display_name": "Python 3",
   "language": "python",
   "name": "python3"
  },
  "language_info": {
   "codemirror_mode": {
    "name": "ipython",
    "version": 3
   },
   "file_extension": ".py",
   "mimetype": "text/x-python",
   "name": "python",
   "nbconvert_exporter": "python",
   "pygments_lexer": "ipython3",
   "version": "3.7.0"
  }
 },
 "nbformat": 4,
 "nbformat_minor": 2
}
