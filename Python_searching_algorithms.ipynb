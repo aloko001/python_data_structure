{
 "cells": [
  {
   "cell_type": "markdown",
   "metadata": {},
   "source": [
    "Searching is a very basic necessity when you store data in different data structures. The simplest appraoch is to go across every element in the data structure and match it with the value you are searching for. This is known as Linear search. It is inefficient and rarely used, but creating a program for it gives an idea about how we can implement some advanced search algorithms."
   ]
  },
  {
   "cell_type": "markdown",
   "metadata": {},
   "source": [
    "# Linear search"
   ]
  },
  {
   "cell_type": "markdown",
   "metadata": {},
   "source": [
    "In this type of search, a sequential search is made over all items one by one. Every item is checked and if a match is found then that particular item is returned, otherwise the search continues till the end of the data structure."
   ]
  },
  {
   "cell_type": "code",
   "execution_count": null,
   "metadata": {},
   "outputs": [],
   "source": [
    "def linear_search(values, search_for):\n",
    "    search_at = 0\n",
    "    search_res = False\n",
    "\n",
    "# Match the value with each data element\t\n",
    "    while search_at < len(values) and search_res is False:\n",
    "        if values[search_at] == search_for:\n",
    "            search_res = True\n",
    "        else:\n",
    "            search_at = search_at + 1\n",
    "\n",
    "    return search_res\n",
    "\n",
    "l = [64, 34, 25, 12, 22, 11, 90]\n",
    "print(linear_search(l, 12))\n",
    "print(linear_search(l, 91))"
   ]
  },
  {
   "cell_type": "markdown",
   "metadata": {},
   "source": [
    "# Interpolation Search"
   ]
  },
  {
   "cell_type": "markdown",
   "metadata": {},
   "source": [
    "This search algorithm works on the probing position of the required value. For this algorithm to work properly, the data collection should be in a sorted form and equally distributed. Initially, the probe position is the position of the middle most item of the collection.If a match occurs, then the index of the item is returned. If the middle item is greater than the item, then the probe position is again calculated in the sub-array to the right of the middle item. Otherwise, the item is searched in the subarray to the left of the middle item. This process continues on the sub-array as well until the size of subarray reduces to zero.\n",
    "\n",
    "There is a specific formula to calculate the middle position which is indicated in the program below"
   ]
  },
  {
   "cell_type": "code",
   "execution_count": null,
   "metadata": {},
   "outputs": [],
   "source": [
    "def intpolsearch(values,x ):\n",
    "    idx0 = 0\n",
    "    idxn = (len(values) - 1)\n",
    "\n",
    "    while idx0 <= idxn and x >= values[idx0] and x <= values[idxn]:\n",
    "\n",
    "# Find the mid point\n",
    "\tmid = idx0 +\\\n",
    "               int(((float(idxn - idx0)/( values[idxn] - values[idx0]))\n",
    "                    * ( x - values[idx0])))\n",
    "\n",
    "# Compare the value at mid point with search value \n",
    "        if values[mid] == x:\n",
    "            return \"Found \"+str(x)+\" at index \"+str(mid)\n",
    "\n",
    "        if values[mid] < x:\n",
    "            idx0 = mid + 1\n",
    "    return \"Searched element not in the list\"\n",
    "\n",
    "\n",
    "l = [2, 6, 11, 19, 27, 31, 45, 121]\n",
    "print(intpolsearch(l, 2))"
   ]
  }
 ],
 "metadata": {
  "kernelspec": {
   "display_name": "Python 3",
   "language": "python",
   "name": "python3"
  },
  "language_info": {
   "codemirror_mode": {
    "name": "ipython",
    "version": 3
   },
   "file_extension": ".py",
   "mimetype": "text/x-python",
   "name": "python",
   "nbconvert_exporter": "python",
   "pygments_lexer": "ipython3",
   "version": "3.7.0"
  }
 },
 "nbformat": 4,
 "nbformat_minor": 2
}
